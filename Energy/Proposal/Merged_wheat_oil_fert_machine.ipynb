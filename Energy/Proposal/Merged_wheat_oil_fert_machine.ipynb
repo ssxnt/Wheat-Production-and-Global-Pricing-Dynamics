{
 "cells": [
  {
   "cell_type": "code",
   "execution_count": 1,
   "id": "39bf997b-d5ea-421c-98bb-4287391deae5",
   "metadata": {
    "tags": []
   },
   "outputs": [],
   "source": [
    "import pandas as pd"
   ]
  },
  {
   "cell_type": "code",
   "execution_count": 16,
   "id": "bda6a214-92cb-421e-a869-0636428328ec",
   "metadata": {
    "tags": []
   },
   "outputs": [
    {
     "data": {
      "text/html": [
       "<div>\n",
       "<style scoped>\n",
       "    .dataframe tbody tr th:only-of-type {\n",
       "        vertical-align: middle;\n",
       "    }\n",
       "\n",
       "    .dataframe tbody tr th {\n",
       "        vertical-align: top;\n",
       "    }\n",
       "\n",
       "    .dataframe thead th {\n",
       "        text-align: right;\n",
       "    }\n",
       "</style>\n",
       "<table border=\"1\" class=\"dataframe\">\n",
       "  <thead>\n",
       "    <tr style=\"text-align: right;\">\n",
       "      <th></th>\n",
       "      <th>DATE</th>\n",
       "      <th>PCU325311325311</th>\n",
       "      <th>WTISPLC</th>\n",
       "      <th>WPUSI024011</th>\n",
       "      <th>Wheat Price</th>\n",
       "    </tr>\n",
       "  </thead>\n",
       "  <tbody>\n",
       "    <tr>\n",
       "      <th>0</th>\n",
       "      <td>1990-01-01</td>\n",
       "      <td>114.4</td>\n",
       "      <td>22.641</td>\n",
       "      <td>122.3</td>\n",
       "      <td>167.918579</td>\n",
       "    </tr>\n",
       "    <tr>\n",
       "      <th>1</th>\n",
       "      <td>1990-02-01</td>\n",
       "      <td>120.1</td>\n",
       "      <td>22.108</td>\n",
       "      <td>122.4</td>\n",
       "      <td>160.937271</td>\n",
       "    </tr>\n",
       "    <tr>\n",
       "      <th>2</th>\n",
       "      <td>1990-03-01</td>\n",
       "      <td>119.6</td>\n",
       "      <td>20.418</td>\n",
       "      <td>122.8</td>\n",
       "      <td>156.528030</td>\n",
       "    </tr>\n",
       "    <tr>\n",
       "      <th>3</th>\n",
       "      <td>1990-04-01</td>\n",
       "      <td>119.1</td>\n",
       "      <td>18.582</td>\n",
       "      <td>123.2</td>\n",
       "      <td>159.467529</td>\n",
       "    </tr>\n",
       "    <tr>\n",
       "      <th>4</th>\n",
       "      <td>1990-05-01</td>\n",
       "      <td>115.8</td>\n",
       "      <td>18.237</td>\n",
       "      <td>123.2</td>\n",
       "      <td>149.179291</td>\n",
       "    </tr>\n",
       "  </tbody>\n",
       "</table>\n",
       "</div>"
      ],
      "text/plain": [
       "         DATE  PCU325311325311  WTISPLC  WPUSI024011  Wheat Price\n",
       "0  1990-01-01            114.4   22.641        122.3   167.918579\n",
       "1  1990-02-01            120.1   22.108        122.4   160.937271\n",
       "2  1990-03-01            119.6   20.418        122.8   156.528030\n",
       "3  1990-04-01            119.1   18.582        123.2   159.467529\n",
       "4  1990-05-01            115.8   18.237        123.2   149.179291"
      ]
     },
     "execution_count": 16,
     "metadata": {},
     "output_type": "execute_result"
    }
   ],
   "source": [
    "df1 = pd.read_csv('PCU325311325311-4.csv')\n",
    "df2 = pd.read_csv('WTISPLC.csv')\n",
    "\n",
    "merged_df1 = pd.merge(df1, df2)\n",
    "merged_df1\n",
    "\n",
    "df3 = pd.read_csv('WPUSI024011.csv')\n",
    "merged_df2 = pd.merge(merged_df1,df3)\n",
    "merged_df2\n",
    "\n",
    "df4 = pd.read_csv('PWHEAMTUSDM.csv')\n",
    "merged_df3 = pd.merge(merged_df2,df4)\n",
    "merged_df3.head()"
   ]
  },
  {
   "cell_type": "code",
   "execution_count": null,
   "id": "d311e4e2-ee3b-41a4-a035-639c305676fc",
   "metadata": {},
   "outputs": [],
   "source": []
  }
 ],
 "metadata": {
  "kernelspec": {
   "display_name": "Python 3 (ipykernel)",
   "language": "python",
   "name": "python3"
  },
  "language_info": {
   "codemirror_mode": {
    "name": "ipython",
    "version": 3
   },
   "file_extension": ".py",
   "mimetype": "text/x-python",
   "name": "python",
   "nbconvert_exporter": "python",
   "pygments_lexer": "ipython3",
   "version": "3.10.8"
  }
 },
 "nbformat": 4,
 "nbformat_minor": 5
}
