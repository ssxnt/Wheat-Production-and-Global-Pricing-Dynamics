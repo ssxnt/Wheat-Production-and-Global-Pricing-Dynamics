{
 "cells": [
  {
   "cell_type": "markdown",
   "id": "56fb16cb",
   "metadata": {},
   "source": [
    "## Lab Assignment 5 -- Regression\n",
    "In this lab, you will complete an exercises related to the lecture material on regression. Then, you will compete with your fellow classmates to see who can best predict housing prices. \n",
    "\n",
    "**IMPORTANT:** Before submitting, make sure you restart the kernel and run all cells sequentially. After all cells have executed, then save the file for submission.  This is very important for grading. "
   ]
  },
  {
   "cell_type": "code",
   "execution_count": 1,
   "id": "3fa22484",
   "metadata": {
    "tags": []
   },
   "outputs": [],
   "source": [
    "# Don't change this line\n",
    "import numpy as np\n",
    "import matplotlib.pyplot as plt\n",
    "from sklearn import metrics\n",
    "import pandas as pd\n",
    "np.random.seed(35)"
   ]
  },
  {
   "cell_type": "markdown",
   "id": "a8137271",
   "metadata": {},
   "source": [
    "## Exercise 1 -- Generating & Analyzing Fake Data\n",
    "In this exercise, we will generate some fake data as we did in the lecture on regression trees. Then, we will use it on a series of regression problems. "
   ]
  },
  {
   "cell_type": "markdown",
   "id": "509af2e9",
   "metadata": {},
   "source": [
    "## Exercise 1a -- Generating the Data\n",
    "Complete the following steps:\n",
    "1. Define a function called `generate_data` that takes two arguments, an integer `n` and a boolean `square`. `square` should have a default argument of `False`.\n",
    "2. Generate an array called `X` and set it equal to `np.random.randn((n,1))`. This creates an $n$-vector of [**standard normal random variables**](https://en.wikipedia.org/wiki/Normal_distribution).\n",
    "3. Turn `X` into an $nx2$ array by concatenating it with an $n$-vector of ones (**Hint**: use `np.ones((n,1))` and `np.concatenate()`). Make sure that the array of ones serves as the first column. \n",
    "3. Define an array called `beta` and set it equal to the array [1, 3.14]\n",
    "4. Define a variable called `epsilon` and set it equal to `np.random.randn(n)*0.3` \n",
    "5. Then, using `X`, `beta`, and `epsilon`, create a variable named `y` which is equal to \n",
    "    - `np.matmul(X, beta) + epsilon` if square is `False`\n",
    "    - `np.matmul(X ** 2, beta) + epsilon` if `square` is `True`.\n",
    "    \n",
    "6. Your output should return `X`and `y`\n",
    "7. Test your function in the cell below with `n=100` and no argument for `square`. Save the output to `X100` and `y100` respectively. Afterwards, print `y100[50]`.\n",
    "\n",
    "Answer the following questions in the Markdown cell below:\n",
    "1. Is this a bivariate or multivariate linear regression model? Why?\n",
    "2. What is the purpose of  including this `epsilon`? What aspect of real data are we trying to mimic?"
   ]
  },
  {
   "cell_type": "code",
   "execution_count": 35,
   "id": "ca021c78",
   "metadata": {
    "tags": []
   },
   "outputs": [
    {
     "name": "stdout",
     "output_type": "stream",
     "text": [
      "[[-2.70526416 -0.58147406]\n",
      " [ 0.52044624  0.43058028]\n",
      " [-1.48002051 -0.74709456]\n",
      " [-0.30740607 -0.38322894]\n",
      " [ 0.20732855  0.06006039]]\n",
      "[[7.31845415e+00 3.38112080e-01]\n",
      " [2.70864287e-01 1.85399374e-01]\n",
      " [2.19046072e+00 5.58150287e-01]\n",
      " [9.44984911e-02 1.46864419e-01]\n",
      " [4.29851284e-02 3.60725069e-03]]\n"
     ]
    }
   ],
   "source": [
    "test = np.random.randn(5,2)\n",
    "print(test)\n",
    "print(test**2)"
   ]
  },
  {
   "cell_type": "code",
   "execution_count": 162,
   "id": "c847213c",
   "metadata": {
    "tags": []
   },
   "outputs": [
    {
     "name": "stdout",
     "output_type": "stream",
     "text": [
      "1.146236730616312\n"
     ]
    }
   ],
   "source": [
    "# Exercise 1a -- Test function and print\n",
    "def generate_data(n, square = False):\n",
    "    X = np.random.randn(n,1)\n",
    "    X = np.concatenate((np.ones((n,1)), X), axis = 1)\n",
    "    beta = np.array((1,3.14))\n",
    "    epsilon = np.random.randn(n)*0.3\n",
    "    if square == False:\n",
    "        y = np.matmul(X, beta) + epsilon\n",
    "    else:\n",
    "        y = np.matmul(X**2, beta) + epsilon\n",
    "    return X, y\n",
    "\n",
    "X100, y100 = generate_data(n=100)\n",
    "print(y100[50])"
   ]
  },
  {
   "cell_type": "markdown",
   "id": "d9d47ea4",
   "metadata": {
    "jp-MarkdownHeadingCollapsed": true,
    "tags": []
   },
   "source": [
    "Oh man I don't understand this at all but let us attempt.<br>\n",
    "This is a multilinear regression model, because we see beta is a 1x2 np array. X is a nx2 matrix. Therefore, there are 100 observations of X that consist of two different variables. y consists of the observed outcome variable that is represented by a nx1 matrix (therefore 100 observations of outcomes). <br>\n",
    "epsilon represents the error term."
   ]
  },
  {
   "cell_type": "markdown",
   "id": "be3ee923",
   "metadata": {},
   "source": [
    "## Exercise 1b -- Standard Linear Regression\n",
    "Using `sklearn`, fit a linear regression model on `y100` and `X100`. When intializing your model, set `fit_intercept` equal to `False` and call your linear model `lr_model_1`. Then, print the estimated coefficients and answer the following question in the Markdown cell below.\n",
    "- What are the coefficient estimates? What values are they close to? Why does this make sense?\n",
    "\n"
   ]
  },
  {
   "cell_type": "code",
   "execution_count": 163,
   "id": "f9955e7f",
   "metadata": {
    "tags": []
   },
   "outputs": [
    {
     "name": "stdout",
     "output_type": "stream",
     "text": [
      "estimated coefficients are [1.01335663 3.18589237]\n"
     ]
    }
   ],
   "source": [
    "# import\n",
    "from sklearn import linear_model\n",
    "\n",
    "# construct the model instance\n",
    "lr_model_1 = linear_model.LinearRegression(fit_intercept = False)\n",
    "\n",
    "# fit the model\n",
    "lr_model_1.fit(X100, y100)\n",
    "\n",
    "# print the coefficients\n",
    "beta_0 = lr_model1.intercept_\n",
    "beta_1 = lr_model1.coef_\n",
    "\n",
    "print(f\"estimated coefficients are {lr_model1.coef_}\")"
   ]
  },
  {
   "cell_type": "markdown",
   "id": "d0d5d044",
   "metadata": {},
   "source": [
    "### Response to Exercise 1b"
   ]
  },
  {
   "cell_type": "markdown",
   "id": "085c9960",
   "metadata": {},
   "source": [
    "## Exercise 1c -- Linear Regression with Quadratic Terms\n",
    "Using `generate_data(100, True)`, create two variables `y100_2` and `X100_2`. Then, repeat the steps from **Exercise 1b** above using `X100_2` and `y100_2` instead of `X_100` and `y_100`.  Call your new model `linear_model_2`.\n",
    "\n",
    "Answer the following questions in the Markdown cell below:\n",
    "\n",
    "1. What are the coefficient estimates? Are they similar to the coefficients from **Exercise 1b**? Why or why not?\n",
    "\n",
    "If your estimates were not similar, create a variable `X100_2_sq` in the third cell below that can be used instead of `X100_2` so that your estimates are similar again. Repeat the same process again but call your `lr_model_3`. Print your new estimated coefficients.\n",
    "\n",
    "In the markdown cell below, answer the following question:\n",
    "\n",
    "2. How did you modify `X100_2` to attain similar coefficients? Why did this work? "
   ]
  },
  {
   "cell_type": "code",
   "execution_count": 60,
   "id": "be504991",
   "metadata": {
    "tags": []
   },
   "outputs": [
    {
     "name": "stdout",
     "output_type": "stream",
     "text": [
      "estimated coefficients for square = True are [4.55227827 1.43483202]\n"
     ]
    }
   ],
   "source": [
    "X100_2, y100_2 = generate_data(100, True)\n",
    "lr_model_2 = linear_model.LinearRegression(fit_intercept = False)\n",
    "lr_model_2.fit(X100_2, y100_2)\n",
    "\n",
    "beta_0_2 = lr_model_2.intercept_\n",
    "beta_1_2 = lr_model_2.coef_\n",
    "\n",
    "print(f\"estimated coefficients for square = True are {beta_1_2}\")\n",
    "\n",
    "#because the coefficients are not similar, proceed with part 1c"
   ]
  },
  {
   "cell_type": "markdown",
   "id": "064117e4",
   "metadata": {},
   "source": [
    "### Response to Exercise 1c -- Question 1"
   ]
  },
  {
   "cell_type": "code",
   "execution_count": 18,
   "id": "af3c6cd1",
   "metadata": {
    "tags": []
   },
   "outputs": [
    {
     "name": "stdout",
     "output_type": "stream",
     "text": [
      "estimated coefficients this time with modifications are [0.91114507 3.15737735]\n",
      "success!\n"
     ]
    }
   ],
   "source": [
    "X100_2_sq = X100_2**2\n",
    "\n",
    "lr_model_3 = linear_model.LinearRegression(fit_intercept = False)\n",
    "lr_model_3.fit(X100_2_sq, y100_2)\n",
    "\n",
    "beta_0_3 = lr_model_3.intercept_\n",
    "beta_1_3 = lr_model_3.coef_\n",
    "\n",
    "print(f\"estimated coefficients this time with modifications are {beta_1_3}\")\n",
    "print(\"success!\")"
   ]
  },
  {
   "cell_type": "markdown",
   "id": "ad67e55d",
   "metadata": {},
   "source": [
    "### Response to Exercise 1c -- Quesiton 2"
   ]
  },
  {
   "cell_type": "markdown",
   "id": "bebaa1d3",
   "metadata": {
    "tags": []
   },
   "source": [
    "### Exercise 1d -- Unnecessary Quadratic Terms\n",
    "Now we are going to see what happens when we estimate a model that only has linear terms using both linear and quadratic terms. Complete the following steps:\n",
    "1. Create an $nx3$ array called `X100_ext` by concatenating `X100` with a column that is equal to the square of elements in the second column. Make sure this new column is the third column. Note that `np.concatenate` requires that both arrays are of the same dimension. You may have to use the method [`.reshape()`](https://numpy.org/doc/stable/reference/generated/numpy.reshape.html).\n",
    "2. Now repeat the steps of **Exercise 1b** with `X100_ext`. Make sure you print the estimated coefficients.\n",
    "\n",
    "Answer the following questions in the Markdown cell below:\n",
    "1. Are the first two coefficients different from their respective counterparts in part **Exercise 1b**? Why do you think this is?\n",
    "2.  Is the third coeffcient close to 0 or large? Why do you think this is?\n",
    "3. Do you think these estimates are accurate?"
   ]
  },
  {
   "cell_type": "code",
   "execution_count": 54,
   "id": "ba894f15",
   "metadata": {
    "scrolled": true,
    "tags": []
   },
   "outputs": [
    {
     "data": {
      "text/plain": [
       "(100, 3)"
      ]
     },
     "execution_count": 54,
     "metadata": {},
     "output_type": "execute_result"
    }
   ],
   "source": [
    "# Exercise 1d -- Create X100_ext here\n",
    "third = X100[:,1]\n",
    "third_sq = third**2\n",
    "X100_T = X100.T\n",
    "third_sq_T = np.reshape(third_sq, (1,100))\n",
    "X100_ext_T = np.concatenate((X100_T, third_sq_T), axis = 0)\n",
    "X100_ext = X100_ext_T.T"
   ]
  },
  {
   "cell_type": "code",
   "execution_count": 109,
   "id": "50115717",
   "metadata": {
    "tags": []
   },
   "outputs": [],
   "source": [
    "# Exercise 1d -- Repeat exercise 1b here\n",
    "lr_model_4 = linear_model.LinearRegression(fit_intercept = False)\n",
    "lr_model_4.fit(X100_ext, y100)\n",
    "lr_model_4.coef_\n",
    "\n",
    "beta_1_4 = lr_model_4.coef_"
   ]
  },
  {
   "cell_type": "markdown",
   "id": "a18eab25",
   "metadata": {},
   "source": [
    "### Response to Exercise 1d"
   ]
  },
  {
   "cell_type": "markdown",
   "id": "7b3fd11d",
   "metadata": {},
   "source": [
    "## Exercise 1e -- Regression Plots\n",
    "Following the notes in the plotting lectures complete the following steps:\n",
    "1. Using `subplots()` initialize a figure with 4 figures in a $2x2$ grid\n",
    "2. Plot the following in the indicated location. \n",
    "    - **Top-left**  -- a line plot of `lr_model_1` and a scatter plot of the data used to generate `lr_model_1`.\n",
    "    - **Bottom-left**  -- a line plot of `lr_model_2` and a scatter plot of the data used to generate `lr_model_2`\n",
    "    - **Bottom-right** -- a line plot of `lr_model_3` and a scatter plot of the data used to generate `lr_model_3`\n",
    "    - **Top-right** -- a line plot of `lr_model_4` and a scatter plot of the data used to generate `lr_model_4`\n",
    "    \n",
    "For the plots above, \n",
    "- make your lines red, \n",
    "- title your plots (e.g. \"Linear Model 1\"),\n",
    "- use `np.linspace(-4,4,200)` as your domain when plotting the lines,\n",
    "- call `fig.tight_layout()` so your plot is not cluttered\n",
    "\n",
    "3. Using the `metrics` submodule of `sklearn`, print the `in-sample` mean squared errors of each model using f strings. Your stings should looke like this: \"MSE of Linear Model 1 is .3\"  \n",
    "**Hints:** . \n",
    "- To plot on the top left axis, you will need to work with `axes.flat[0]` . The remaining axes are indexed by 1, 2, and 3.\n",
    "- If you choose to used the `.predict()` to plot your lines, keep in mind you need to provide it with the correctly shaped input. \n",
    "- When calculating the means within a loop, it may hep to create a list that contains the four linear models.\n"
   ]
  },
  {
   "cell_type": "code",
   "execution_count": 154,
   "id": "089efe8f-2608-4471-9365-a499f4e14b6a",
   "metadata": {
    "tags": []
   },
   "outputs": [
    {
     "data": {
      "text/plain": [
       "numpy.float64"
      ]
     },
     "execution_count": 154,
     "metadata": {},
     "output_type": "execute_result"
    }
   ],
   "source": [
    "#pls = beta_1[1].astype(np.int64)\n",
    "#pls*m1_X\n",
    "type(beta_1[1])"
   ]
  },
  {
   "cell_type": "code",
   "execution_count": 157,
   "id": "28e83bf0-c1d4-4329-9dae-c482e96b7bc4",
   "metadata": {
    "tags": []
   },
   "outputs": [
    {
     "data": {
      "image/png": "[encoded data removed]",
      "text/plain": [
       "<Figure size 1200x1000 with 4 Axes>"
      ]
     },
     "metadata": {},
     "output_type": "display_data"
    }
   ],
   "source": [
    "# Exercise 1e -- plots\n",
    "fig, ax = plt.subplots(2,2, figsize = (12,10))\n",
    "\n",
    "#take the 2nd column of each X from each model and turn it into lists, this will be the plotted x-values\n",
    "m1_X = X100[:,1].tolist()\n",
    "m2_X = X100_2[:,1].tolist()\n",
    "m3_X = X100_2_sq[:,1].tolist()\n",
    "m4_X = X100_ext[:,1].tolist()\n",
    "\n",
    "#similarly, save the y-values into a list\n",
    "m1_y = y100.tolist()\n",
    "m2_y = y100_2.tolist()\n",
    "m3_y = y100_2.tolist()\n",
    "m4_y = y100.tolist()\n",
    "\n",
    "x = np.linspace(-4,4,100)\n",
    "\n",
    "ax.flat[0].scatter(m1_X, m1_y, s = 8)\n",
    "ax.flat[0].plot(x, (beta_1[1]*x)+1, color = \"red\")\n",
    "ax.flat[0].set_xlim(left = -4)\n",
    "\n",
    "ax.flat[1].scatter(m2_X, m2_y, s = 8)\n",
    "ax.flat[1].plot(x, (beta_1_2[1]*x)+1, color = \"red\")\n",
    "ax.flat[1].set_xlim(left = -4)\n",
    "\n",
    "ax.flat[2].scatter(m3_X, m3_y, s = 8)\n",
    "ax.flat[2].plot(x, (beta_1_3[1]*x)+1, color = \"red\")\n",
    "ax.flat[2].set_xlim(left = -4)\n",
    "\n",
    "ax.flat[3].scatter(m4_X, m4_y, s = 8)\n",
    "ax.flat[3].plot(x, (beta_1_4[1]*x)+1, color = \"red\")\n",
    "ax.flat[3].set_xlim(left = -4)\n",
    "\n",
    "\n",
    "fig.tight_layout()\n",
    "plt.show()"
   ]
  },
  {
   "cell_type": "code",
   "execution_count": 158,
   "id": "83de691e",
   "metadata": {
    "scrolled": true,
    "tags": []
   },
   "outputs": [
    {
     "name": "stdout",
     "output_type": "stream",
     "text": [
      "MSE for M1 is 0.0998459353183167\n",
      "MSE for M2 is 45.96721759710586\n",
      "MSE for M3 is 50.495314721284394\n",
      "MSE for M4 is 0.09984941480030977\n"
     ]
    }
   ],
   "source": [
    "# Exercise 1e -- mean squared errors\n",
    "m1_mse = metrics.mean_squared_error(m1_y, (beta_1[1]*X100[:,1])+1)\n",
    "print(f\"MSE for M1 is {m1_mse}\")\n",
    "m2_mse = metrics.mean_squared_error(m2_y, (beta_1_2[1]*X100_2[:,1])+1)\n",
    "print(f\"MSE for M2 is {m2_mse}\")\n",
    "m3_mse = metrics.mean_squared_error(m3_y, (beta_1_3[1]*X100_2_sq[:,1])+1)\n",
    "print(f\"MSE for M3 is {m3_mse}\")\n",
    "m4_mse = metrics.mean_squared_error(m4_y, (beta_1_4[1]*X100_ext[:,1])+1)\n",
    "print(f\"MSE for M4 is {m4_mse}\")"
   ]
  },
  {
   "cell_type": "markdown",
   "id": "81baa272",
   "metadata": {},
   "source": [
    "### Exercise 1f -- Functional Misspecification\n",
    "**Functional Misspecification** is used to describe the situation where the functional form of the regression model we are estimating is not the same as the functional form of the true data generating process. Answer the following question in the markdown cell below:\n",
    "- Which of the four linear models do you think are well-specified? Which ones are not? Is including extra terms problematic when it comes to being well-specified. What about excluding the terms found in the true data generating process?\n",
    "- How does misspecification manifest itself in the plots? How about in the mean squared errors? \n",
    "- After doing this exercise, do you think it is important to investigate the relationship between variables before determining your regression specification? Why or why not?"
   ]
  },
  {
   "cell_type": "markdown",
   "id": "03d3f378",
   "metadata": {},
   "source": [
    "### Response to Exercise 1f"
   ]
  },
  {
   "cell_type": "markdown",
   "id": "77c7d5c8",
   "metadata": {},
   "source": [
    "### Exercise 1g -- Lasso\n",
    "Finally, we will run lasso on our fake data. Complete the following steps:\n",
    "1. Generate `X1000` and `y1000` using `generate_data(1000)`\n",
    "2. Create an `1000x3` array called `X1000_ext` which is created in a anaglous fashion to `X100_ext`. \n",
    "3. Follow the lecture notes to create a standardized version of `X1000_ext` called `X1000_ext_scl`. You will need to import the `preprocessing` submodule of sklearn.\n",
    "4. Check to make sure your means and variances. You should see that everything looks good except for our intercept has a variance of $0$. You actually do not want to standardize an intercept but we still need it! Replace the first column of  `X1000_ext_scl` with a fresh column of ones using `np.ones(1000)`.\n",
    "5. Create a dataframe version of `X1000_ext_scl` called `X_lasso_df` and rename the columns to \"intercept\", \"x\", and \"x_sq\" respectively.Then call `X_lasso_df` at the bottom of the cell.\n",
    "6. Copy and paste the Lasso path code from the lecture notes into the second cell below. Adapt it so it works for `X_lasso_df` and `y1000`.\n",
    "\n",
    "\n",
    "In the Markdown cell below, answer the following questions:\n",
    "1. Characterize `X_sq`'s lasso path. Why was this behavior predictable?    Reference linear model 4 or the true DGP in your answer.\n",
    "2. Without checking, do you think a low or high value for alpha would be chosen by cross validation? To help you answer this question, think about what the true coefficients are and whether or not higher alphas bring the lasso coefficients closer to their true counterparts or farther away. "
   ]
  },
  {
   "cell_type": "code",
   "execution_count": 161,
   "id": "c250202b",
   "metadata": {
    "tags": []
   },
   "outputs": [
    {
     "data": {
      "text/plain": [
       "array([[ 1.00000000e+00, -1.88973671e+00,  3.57110483e+00],\n",
       "       [ 1.00000000e+00, -4.13592182e-01,  1.71058493e-01],\n",
       "       [ 1.00000000e+00, -7.66026008e-01,  5.86795845e-01],\n",
       "       [ 1.00000000e+00, -9.24126667e-01,  8.54010096e-01],\n",
       "       [ 1.00000000e+00, -1.42159783e+00,  2.02094040e+00],\n",
       "       [ 1.00000000e+00,  8.05255988e-01,  6.48437206e-01],\n",
       "       [ 1.00000000e+00,  1.14886176e+00,  1.31988335e+00],\n",
       "       [ 1.00000000e+00,  1.16942840e+00,  1.36756278e+00],\n",
       "       [ 1.00000000e+00, -8.02009284e-01,  6.43218891e-01],\n",
       "       [ 1.00000000e+00,  7.22477641e-01,  5.21973942e-01],\n",
       "       [ 1.00000000e+00,  5.29870362e-02,  2.80762601e-03],\n",
       "       [ 1.00000000e+00, -1.18152016e+00,  1.39598989e+00],\n",
       "       [ 1.00000000e+00, -6.76151159e-01,  4.57180390e-01],\n",
       "       [ 1.00000000e+00, -1.66226591e-01,  2.76312796e-02],\n",
       "       [ 1.00000000e+00,  4.67435191e-01,  2.18495658e-01],\n",
       "       [ 1.00000000e+00,  3.33719109e-01,  1.11368444e-01],\n",
       "       [ 1.00000000e+00, -8.49657821e-01,  7.21918413e-01],\n",
       "       [ 1.00000000e+00,  6.86827551e-02,  4.71732085e-03],\n",
       "       [ 1.00000000e+00,  1.85819733e-02,  3.45289730e-04],\n",
       "       [ 1.00000000e+00,  1.31553309e+00,  1.73062730e+00],\n",
       "       [ 1.00000000e+00,  1.16477456e+00,  1.35669978e+00],\n",
       "       [ 1.00000000e+00, -3.40328671e-01,  1.15823604e-01],\n",
       "       [ 1.00000000e+00,  5.62333125e-02,  3.16218544e-03],\n",
       "       [ 1.00000000e+00,  2.25878651e-01,  5.10211648e-02],\n",
       "       [ 1.00000000e+00, -3.75620418e-01,  1.41090699e-01],\n",
       "       [ 1.00000000e+00,  5.53313301e-01,  3.06155609e-01],\n",
       "       [ 1.00000000e+00, -1.37090403e+00,  1.87937786e+00],\n",
       "       [ 1.00000000e+00,  9.82643337e-01,  9.65587928e-01],\n",
       "       [ 1.00000000e+00,  2.88698851e-01,  8.33470266e-02],\n",
       "       [ 1.00000000e+00, -1.59731057e+00,  2.55140106e+00],\n",
       "       [ 1.00000000e+00, -3.37045288e-01,  1.13599526e-01],\n",
       "       [ 1.00000000e+00, -8.16794936e-01,  6.67153967e-01],\n",
       "       [ 1.00000000e+00,  1.07969244e+00,  1.16573576e+00],\n",
       "       [ 1.00000000e+00,  4.29161711e-01,  1.84179774e-01],\n",
       "       [ 1.00000000e+00, -1.24806321e+00,  1.55766178e+00],\n",
       "       [ 1.00000000e+00, -6.82135585e-01,  4.65308957e-01],\n",
       "       [ 1.00000000e+00,  4.34912825e-01,  1.89149165e-01],\n",
       "       [ 1.00000000e+00,  1.26656460e+00,  1.60418590e+00],\n",
       "       [ 1.00000000e+00,  7.57926094e-01,  5.74451964e-01],\n",
       "       [ 1.00000000e+00, -1.11485301e-02,  1.24289723e-04],\n",
       "       [ 1.00000000e+00,  1.31852838e+00,  1.73851709e+00],\n",
       "       [ 1.00000000e+00,  1.12878300e+00,  1.27415107e+00],\n",
       "       [ 1.00000000e+00, -7.27644852e-01,  5.29467031e-01],\n",
       "       [ 1.00000000e+00, -3.60781123e-01,  1.30163019e-01],\n",
       "       [ 1.00000000e+00,  4.52866472e-01,  2.05088041e-01],\n",
       "       [ 1.00000000e+00, -5.87256424e-01,  3.44870107e-01],\n",
       "       [ 1.00000000e+00, -3.01664124e+00,  9.10012436e+00],\n",
       "       [ 1.00000000e+00,  9.82308243e-01,  9.64929485e-01],\n",
       "       [ 1.00000000e+00, -1.11707229e+00,  1.24785051e+00],\n",
       "       [ 1.00000000e+00, -1.86886144e-01,  3.49264310e-02],\n",
       "       [ 1.00000000e+00, -1.18334703e+00,  1.40031020e+00],\n",
       "       [ 1.00000000e+00,  8.71437547e-01,  7.59403398e-01],\n",
       "       [ 1.00000000e+00, -9.62552092e-01,  9.26506531e-01],\n",
       "       [ 1.00000000e+00,  1.83047447e-01,  3.35063679e-02],\n",
       "       [ 1.00000000e+00, -2.33470952e+00,  5.45086855e+00],\n",
       "       [ 1.00000000e+00,  1.81321056e+00,  3.28773254e+00],\n",
       "       [ 1.00000000e+00,  1.83175301e+00,  3.35531907e+00],\n",
       "       [ 1.00000000e+00, -3.76887844e-01,  1.42044447e-01],\n",
       "       [ 1.00000000e+00,  3.48112342e-01,  1.21182202e-01],\n",
       "       [ 1.00000000e+00, -1.16281557e-01,  1.35214004e-02],\n",
       "       [ 1.00000000e+00,  2.30729416e+00,  5.32360636e+00],\n",
       "       [ 1.00000000e+00, -5.13013094e-01,  2.63182434e-01],\n",
       "       [ 1.00000000e+00, -1.46904681e+00,  2.15809853e+00],\n",
       "       [ 1.00000000e+00, -1.37928569e+00,  1.90242903e+00],\n",
       "       [ 1.00000000e+00,  1.42669571e+00,  2.03546064e+00],\n",
       "       [ 1.00000000e+00,  2.58883157e+00,  6.70204890e+00],\n",
       "       [ 1.00000000e+00,  4.34142541e-01,  1.88479746e-01],\n",
       "       [ 1.00000000e+00,  6.37375140e-01,  4.06247069e-01],\n",
       "       [ 1.00000000e+00,  1.90407734e+00,  3.62551051e+00],\n",
       "       [ 1.00000000e+00,  9.04049302e-01,  8.17305140e-01],\n",
       "       [ 1.00000000e+00,  9.00810778e-01,  8.11460058e-01],\n",
       "       [ 1.00000000e+00,  1.80616720e-01,  3.26223994e-02],\n",
       "       [ 1.00000000e+00, -1.19930462e+00,  1.43833156e+00],\n",
       "       [ 1.00000000e+00, -9.78494295e-01,  9.57451085e-01],\n",
       "       [ 1.00000000e+00, -8.02806085e-02,  6.44497611e-03],\n",
       "       [ 1.00000000e+00, -2.32295360e+00,  5.39611344e+00],\n",
       "       [ 1.00000000e+00, -3.65886501e-01,  1.33872932e-01],\n",
       "       [ 1.00000000e+00, -9.26622764e-02,  8.58629746e-03],\n",
       "       [ 1.00000000e+00,  6.38221550e-01,  4.07326747e-01],\n",
       "       [ 1.00000000e+00, -6.98334300e-02,  4.87670795e-03],\n",
       "       [ 1.00000000e+00,  2.79972326e-01,  7.83845031e-02],\n",
       "       [ 1.00000000e+00, -5.80270895e-02,  3.36714312e-03],\n",
       "       [ 1.00000000e+00,  1.53958652e+00,  2.37032664e+00],\n",
       "       [ 1.00000000e+00,  4.88544670e-01,  2.38675895e-01],\n",
       "       [ 1.00000000e+00,  4.41061988e-01,  1.94535677e-01],\n",
       "       [ 1.00000000e+00, -3.17005187e-01,  1.00492288e-01],\n",
       "       [ 1.00000000e+00,  2.01917682e+00,  4.07707501e+00],\n",
       "       [ 1.00000000e+00, -2.49296089e+00,  6.21485398e+00],\n",
       "       [ 1.00000000e+00,  8.08301157e-01,  6.53350761e-01],\n",
       "       [ 1.00000000e+00, -3.96137597e-01,  1.56924996e-01],\n",
       "       [ 1.00000000e+00, -9.35724233e-02,  8.75579839e-03],\n",
       "       [ 1.00000000e+00,  2.40029017e-01,  5.76139292e-02],\n",
       "       [ 1.00000000e+00,  1.20337054e+00,  1.44810066e+00],\n",
       "       [ 1.00000000e+00,  1.13431119e+00,  1.28666188e+00],\n",
       "       [ 1.00000000e+00, -4.26387224e-01,  1.81806065e-01],\n",
       "       [ 1.00000000e+00,  1.88772811e+00,  3.56351741e+00],\n",
       "       [ 1.00000000e+00, -7.27359833e-01,  5.29052326e-01],\n",
       "       [ 1.00000000e+00,  6.17100770e-01,  3.80813360e-01],\n",
       "       [ 1.00000000e+00,  7.08786564e-01,  5.02378393e-01],\n",
       "       [ 1.00000000e+00,  2.06628258e-02,  4.26952372e-04]])"
      ]
     },
     "execution_count": 161,
     "metadata": {},
     "output_type": "execute_result"
    }
   ],
   "source": [
    "# Exercise 1g -- Steps 1-5\n",
    "#Step 1\n",
    "X1000, y1000 = generate_data(1000)\n",
    "\n",
    "#Step 2\n",
    "ext = X1000[:,1]\n",
    "ext_sq = ext**2\n",
    "X1000_T = X1000.T\n",
    "ext_sq_T = np.reshape(ext_sq, (1,1000))\n",
    "X1000_ext_T = np.concatenate((X1000_T, ext_sq_T), axis = 0)\n",
    "X1000_ext = X100_ext_T.T\n",
    "\n",
    "#Step 3 - create X1000_ext_scl\n",
    "from sklearn import preprocessing #to create standardized version of X1000_ext\n",
    "import numpy as np\n",
    "X_train = np.array([[ 1., -1.,  2.],\n",
    "                    [ 2.,  0.,  0.],\n",
    "                    [ 0.,  1., -1.]])\n",
    "scaler = preprocessing.StandardScaler().fit(X_train)\n",
    "scaler\n",
    "\n",
    "scaler.mean_\n",
    "\n",
    "scaler.scale_\n",
    "\n",
    "X_scaled = scaler.transform(X_train)\n",
    "X_scaled\n"
   ]
  },
  {
   "cell_type": "code",
   "execution_count": null,
   "id": "4cfec5de",
   "metadata": {},
   "outputs": [],
   "source": [
    "# Exercise 1g -- Step 5 copy code here\n"
   ]
  }
 ],
 "metadata": {
  "kernelspec": {
   "display_name": "Python 3 (ipykernel)",
   "language": "python",
   "name": "python3"
  },
  "language_info": {
   "codemirror_mode": {
    "name": "ipython",
    "version": 3
   },
   "file_extension": ".py",
   "mimetype": "text/x-python",
   "name": "python",
   "nbconvert_exporter": "python",
   "pygments_lexer": "ipython3",
   "version": "3.11.5"
  }
 },
 "nbformat": 4,
 "nbformat_minor": 5
}
