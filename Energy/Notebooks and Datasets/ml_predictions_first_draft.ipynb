{
 "cells": [
  {
   "cell_type": "code",
   "execution_count": 2,
   "id": "7a1e00a9",
   "metadata": {},
   "outputs": [
    {
     "name": "stderr",
     "output_type": "stream",
     "text": [
      "/Users/sant/anaconda3/lib/python3.11/site-packages/pandas/core/arrays/masked.py:60: UserWarning: Pandas requires version '1.3.6' or newer of 'bottleneck' (version '1.3.5' currently installed).\n",
      "  from pandas.core import (\n"
     ]
    },
    {
     "data": {
      "text/plain": [
       "Index(['DATE', 'PCU325311325311', 'WTISPLC', 'WPUSI024011', 'PWHEAMTUSDM',\n",
       "       'PCU3253203253201', 'WPU02550304'],\n",
       "      dtype='object')"
      ]
     },
     "execution_count": 2,
     "metadata": {},
     "output_type": "execute_result"
    }
   ],
   "source": [
    "import pandas as pd\n",
    "\n",
    "df1 = pd.read_csv('PCU325311325311.csv') # fert\n",
    "df2 = pd.read_csv('WTISPLC.csv') # oil\n",
    "df3 = pd.read_csv('WPUSI024011.csv') # agri mech\n",
    "df4 = pd.read_csv('PWHEAMTUSDM.csv') # WHEAT\n",
    "df5 = pd.read_csv('Pesticide2003.csv') # pesticide\n",
    "df6 = pd.read_csv('farm_wage_data_99t22.csv') # wages\n",
    "df7 = pd.read_csv('seeds.csv') # seeds\n",
    "\n",
    "df_list = [df1, df2, df3, df4, df5, df7] # ignore df6 for now\n",
    "merged_df = pd.DataFrame()\n",
    "merged_df = df_list[0]\n",
    "\n",
    "for df in df_list[1:]:\n",
    "    merged_df = pd.merge(merged_df, df, on='DATE', how='inner')\n",
    "    \n",
    "merged_df.columns"
   ]
  },
  {
   "cell_type": "code",
   "execution_count": 3,
   "id": "ad9c1e78",
   "metadata": {},
   "outputs": [
    {
     "data": {
      "text/html": [
       "<div>\n",
       "<style scoped>\n",
       "    .dataframe tbody tr th:only-of-type {\n",
       "        vertical-align: middle;\n",
       "    }\n",
       "\n",
       "    .dataframe tbody tr th {\n",
       "        vertical-align: top;\n",
       "    }\n",
       "\n",
       "    .dataframe thead th {\n",
       "        text-align: right;\n",
       "    }\n",
       "</style>\n",
       "<table border=\"1\" class=\"dataframe\">\n",
       "  <thead>\n",
       "    <tr style=\"text-align: right;\">\n",
       "      <th></th>\n",
       "      <th>DATE</th>\n",
       "      <th>PCU325311325311</th>\n",
       "      <th>WTISPLC</th>\n",
       "      <th>WPUSI024011</th>\n",
       "      <th>PWHEAMTUSDM</th>\n",
       "      <th>PCU3253203253201</th>\n",
       "      <th>WPU02550304</th>\n",
       "    </tr>\n",
       "  </thead>\n",
       "  <tbody>\n",
       "    <tr>\n",
       "      <th>0</th>\n",
       "      <td>2003-06-01</td>\n",
       "      <td>177.600</td>\n",
       "      <td>30.72</td>\n",
       "      <td>166.200</td>\n",
       "      <td>118.157134</td>\n",
       "      <td>100.000</td>\n",
       "      <td>120.600</td>\n",
       "    </tr>\n",
       "    <tr>\n",
       "      <th>1</th>\n",
       "      <td>2003-07-01</td>\n",
       "      <td>173.800</td>\n",
       "      <td>30.76</td>\n",
       "      <td>166.500</td>\n",
       "      <td>115.775953</td>\n",
       "      <td>100.000</td>\n",
       "      <td>121.500</td>\n",
       "    </tr>\n",
       "    <tr>\n",
       "      <th>2</th>\n",
       "      <td>2003-08-01</td>\n",
       "      <td>175.800</td>\n",
       "      <td>31.59</td>\n",
       "      <td>168.000</td>\n",
       "      <td>133.484492</td>\n",
       "      <td>100.000</td>\n",
       "      <td>121.600</td>\n",
       "    </tr>\n",
       "    <tr>\n",
       "      <th>3</th>\n",
       "      <td>2003-09-01</td>\n",
       "      <td>178.400</td>\n",
       "      <td>28.29</td>\n",
       "      <td>168.100</td>\n",
       "      <td>130.649980</td>\n",
       "      <td>100.000</td>\n",
       "      <td>121.100</td>\n",
       "    </tr>\n",
       "    <tr>\n",
       "      <th>4</th>\n",
       "      <td>2003-10-01</td>\n",
       "      <td>180.700</td>\n",
       "      <td>30.33</td>\n",
       "      <td>168.100</td>\n",
       "      <td>130.056604</td>\n",
       "      <td>100.400</td>\n",
       "      <td>124.500</td>\n",
       "    </tr>\n",
       "    <tr>\n",
       "      <th>...</th>\n",
       "      <td>...</td>\n",
       "      <td>...</td>\n",
       "      <td>...</td>\n",
       "      <td>...</td>\n",
       "      <td>...</td>\n",
       "      <td>...</td>\n",
       "      <td>...</td>\n",
       "    </tr>\n",
       "    <tr>\n",
       "      <th>244</th>\n",
       "      <td>2023-10-01</td>\n",
       "      <td>393.366</td>\n",
       "      <td>85.64</td>\n",
       "      <td>334.020</td>\n",
       "      <td>216.463939</td>\n",
       "      <td>139.012</td>\n",
       "      <td>187.977</td>\n",
       "    </tr>\n",
       "    <tr>\n",
       "      <th>245</th>\n",
       "      <td>2023-11-01</td>\n",
       "      <td>402.619</td>\n",
       "      <td>77.69</td>\n",
       "      <td>331.890</td>\n",
       "      <td>216.000269</td>\n",
       "      <td>138.055</td>\n",
       "      <td>186.640</td>\n",
       "    </tr>\n",
       "    <tr>\n",
       "      <th>246</th>\n",
       "      <td>2023-12-01</td>\n",
       "      <td>424.022</td>\n",
       "      <td>71.90</td>\n",
       "      <td>332.650</td>\n",
       "      <td>229.633413</td>\n",
       "      <td>138.776</td>\n",
       "      <td>187.556</td>\n",
       "    </tr>\n",
       "    <tr>\n",
       "      <th>247</th>\n",
       "      <td>2024-01-01</td>\n",
       "      <td>410.413</td>\n",
       "      <td>74.15</td>\n",
       "      <td>332.748</td>\n",
       "      <td>226.078532</td>\n",
       "      <td>138.277</td>\n",
       "      <td>187.396</td>\n",
       "    </tr>\n",
       "    <tr>\n",
       "      <th>248</th>\n",
       "      <td>2024-02-01</td>\n",
       "      <td>389.008</td>\n",
       "      <td>77.25</td>\n",
       "      <td>333.156</td>\n",
       "      <td>219.238068</td>\n",
       "      <td>138.221</td>\n",
       "      <td>187.544</td>\n",
       "    </tr>\n",
       "  </tbody>\n",
       "</table>\n",
       "<p>249 rows × 7 columns</p>\n",
       "</div>"
      ],
      "text/plain": [
       "           DATE  PCU325311325311  WTISPLC  WPUSI024011  PWHEAMTUSDM  \\\n",
       "0    2003-06-01          177.600    30.72      166.200   118.157134   \n",
       "1    2003-07-01          173.800    30.76      166.500   115.775953   \n",
       "2    2003-08-01          175.800    31.59      168.000   133.484492   \n",
       "3    2003-09-01          178.400    28.29      168.100   130.649980   \n",
       "4    2003-10-01          180.700    30.33      168.100   130.056604   \n",
       "..          ...              ...      ...          ...          ...   \n",
       "244  2023-10-01          393.366    85.64      334.020   216.463939   \n",
       "245  2023-11-01          402.619    77.69      331.890   216.000269   \n",
       "246  2023-12-01          424.022    71.90      332.650   229.633413   \n",
       "247  2024-01-01          410.413    74.15      332.748   226.078532   \n",
       "248  2024-02-01          389.008    77.25      333.156   219.238068   \n",
       "\n",
       "     PCU3253203253201  WPU02550304  \n",
       "0             100.000      120.600  \n",
       "1             100.000      121.500  \n",
       "2             100.000      121.600  \n",
       "3             100.000      121.100  \n",
       "4             100.400      124.500  \n",
       "..                ...          ...  \n",
       "244           139.012      187.977  \n",
       "245           138.055      186.640  \n",
       "246           138.776      187.556  \n",
       "247           138.277      187.396  \n",
       "248           138.221      187.544  \n",
       "\n",
       "[249 rows x 7 columns]"
      ]
     },
     "execution_count": 3,
     "metadata": {},
     "output_type": "execute_result"
    }
   ],
   "source": [
    "merged_df = merged_df.dropna(axis=0)\n",
    "merged_df"
   ]
  },
  {
   "cell_type": "code",
   "execution_count": 4,
   "id": "ac306f7e",
   "metadata": {},
   "outputs": [
    {
     "data": {
      "text/plain": [
       "0      118.157134\n",
       "1      115.775953\n",
       "2      133.484492\n",
       "3      130.649980\n",
       "4      130.056604\n",
       "          ...    \n",
       "244    216.463939\n",
       "245    216.000269\n",
       "246    229.633413\n",
       "247    226.078532\n",
       "248    219.238068\n",
       "Name: PWHEAMTUSDM, Length: 249, dtype: float64"
      ]
     },
     "execution_count": 4,
     "metadata": {},
     "output_type": "execute_result"
    }
   ],
   "source": [
    "y = merged_df.PWHEAMTUSDM # target\n",
    "y"
   ]
  },
  {
   "cell_type": "code",
   "execution_count": 5,
   "id": "84b893ca",
   "metadata": {},
   "outputs": [
    {
     "data": {
      "text/html": [
       "<div>\n",
       "<style scoped>\n",
       "    .dataframe tbody tr th:only-of-type {\n",
       "        vertical-align: middle;\n",
       "    }\n",
       "\n",
       "    .dataframe tbody tr th {\n",
       "        vertical-align: top;\n",
       "    }\n",
       "\n",
       "    .dataframe thead th {\n",
       "        text-align: right;\n",
       "    }\n",
       "</style>\n",
       "<table border=\"1\" class=\"dataframe\">\n",
       "  <thead>\n",
       "    <tr style=\"text-align: right;\">\n",
       "      <th></th>\n",
       "      <th>PCU325311325311</th>\n",
       "      <th>WTISPLC</th>\n",
       "      <th>WPUSI024011</th>\n",
       "      <th>PCU3253203253201</th>\n",
       "      <th>WPU02550304</th>\n",
       "    </tr>\n",
       "  </thead>\n",
       "  <tbody>\n",
       "    <tr>\n",
       "      <th>count</th>\n",
       "      <td>249.000000</td>\n",
       "      <td>249.000000</td>\n",
       "      <td>249.000000</td>\n",
       "      <td>249.000000</td>\n",
       "      <td>249.000000</td>\n",
       "    </tr>\n",
       "    <tr>\n",
       "      <th>mean</th>\n",
       "      <td>344.315723</td>\n",
       "      <td>69.028153</td>\n",
       "      <td>229.725964</td>\n",
       "      <td>122.459016</td>\n",
       "      <td>180.673108</td>\n",
       "    </tr>\n",
       "    <tr>\n",
       "      <th>std</th>\n",
       "      <td>112.612571</td>\n",
       "      <td>22.912772</td>\n",
       "      <td>41.209278</td>\n",
       "      <td>17.414848</td>\n",
       "      <td>29.979768</td>\n",
       "    </tr>\n",
       "    <tr>\n",
       "      <th>min</th>\n",
       "      <td>173.800000</td>\n",
       "      <td>16.550000</td>\n",
       "      <td>166.200000</td>\n",
       "      <td>100.000000</td>\n",
       "      <td>120.600000</td>\n",
       "    </tr>\n",
       "    <tr>\n",
       "      <th>25%</th>\n",
       "      <td>272.600000</td>\n",
       "      <td>50.580000</td>\n",
       "      <td>202.600000</td>\n",
       "      <td>113.100000</td>\n",
       "      <td>152.400000</td>\n",
       "    </tr>\n",
       "    <tr>\n",
       "      <th>50%</th>\n",
       "      <td>314.500000</td>\n",
       "      <td>67.730000</td>\n",
       "      <td>225.900000</td>\n",
       "      <td>121.900000</td>\n",
       "      <td>187.100000</td>\n",
       "    </tr>\n",
       "    <tr>\n",
       "      <th>75%</th>\n",
       "      <td>402.619000</td>\n",
       "      <td>86.410000</td>\n",
       "      <td>247.000000</td>\n",
       "      <td>127.200000</td>\n",
       "      <td>200.800000</td>\n",
       "    </tr>\n",
       "    <tr>\n",
       "      <th>max</th>\n",
       "      <td>774.068000</td>\n",
       "      <td>133.930000</td>\n",
       "      <td>334.020000</td>\n",
       "      <td>191.692000</td>\n",
       "      <td>239.700000</td>\n",
       "    </tr>\n",
       "  </tbody>\n",
       "</table>\n",
       "</div>"
      ],
      "text/plain": [
       "       PCU325311325311     WTISPLC  WPUSI024011  PCU3253203253201  WPU02550304\n",
       "count       249.000000  249.000000   249.000000        249.000000   249.000000\n",
       "mean        344.315723   69.028153   229.725964        122.459016   180.673108\n",
       "std         112.612571   22.912772    41.209278         17.414848    29.979768\n",
       "min         173.800000   16.550000   166.200000        100.000000   120.600000\n",
       "25%         272.600000   50.580000   202.600000        113.100000   152.400000\n",
       "50%         314.500000   67.730000   225.900000        121.900000   187.100000\n",
       "75%         402.619000   86.410000   247.000000        127.200000   200.800000\n",
       "max         774.068000  133.930000   334.020000        191.692000   239.700000"
      ]
     },
     "execution_count": 5,
     "metadata": {},
     "output_type": "execute_result"
    }
   ],
   "source": [
    "features = ['PCU325311325311', 'WTISPLC', 'WPUSI024011', 'PCU3253203253201', 'WPU02550304']\n",
    "#features = ['WTISPLC']\n",
    "X = merged_df[features]\n",
    "X.describe()"
   ]
  },
  {
   "cell_type": "code",
   "execution_count": 6,
   "id": "b5110ae3",
   "metadata": {},
   "outputs": [
    {
     "data": {
      "text/html": [
       "<div>\n",
       "<style scoped>\n",
       "    .dataframe tbody tr th:only-of-type {\n",
       "        vertical-align: middle;\n",
       "    }\n",
       "\n",
       "    .dataframe tbody tr th {\n",
       "        vertical-align: top;\n",
       "    }\n",
       "\n",
       "    .dataframe thead th {\n",
       "        text-align: right;\n",
       "    }\n",
       "</style>\n",
       "<table border=\"1\" class=\"dataframe\">\n",
       "  <thead>\n",
       "    <tr style=\"text-align: right;\">\n",
       "      <th></th>\n",
       "      <th>PCU325311325311</th>\n",
       "      <th>WTISPLC</th>\n",
       "      <th>WPUSI024011</th>\n",
       "      <th>PCU3253203253201</th>\n",
       "      <th>WPU02550304</th>\n",
       "    </tr>\n",
       "  </thead>\n",
       "  <tbody>\n",
       "    <tr>\n",
       "      <th>0</th>\n",
       "      <td>177.6</td>\n",
       "      <td>30.72</td>\n",
       "      <td>166.2</td>\n",
       "      <td>100.0</td>\n",
       "      <td>120.6</td>\n",
       "    </tr>\n",
       "    <tr>\n",
       "      <th>1</th>\n",
       "      <td>173.8</td>\n",
       "      <td>30.76</td>\n",
       "      <td>166.5</td>\n",
       "      <td>100.0</td>\n",
       "      <td>121.5</td>\n",
       "    </tr>\n",
       "    <tr>\n",
       "      <th>2</th>\n",
       "      <td>175.8</td>\n",
       "      <td>31.59</td>\n",
       "      <td>168.0</td>\n",
       "      <td>100.0</td>\n",
       "      <td>121.6</td>\n",
       "    </tr>\n",
       "    <tr>\n",
       "      <th>3</th>\n",
       "      <td>178.4</td>\n",
       "      <td>28.29</td>\n",
       "      <td>168.1</td>\n",
       "      <td>100.0</td>\n",
       "      <td>121.1</td>\n",
       "    </tr>\n",
       "    <tr>\n",
       "      <th>4</th>\n",
       "      <td>180.7</td>\n",
       "      <td>30.33</td>\n",
       "      <td>168.1</td>\n",
       "      <td>100.4</td>\n",
       "      <td>124.5</td>\n",
       "    </tr>\n",
       "  </tbody>\n",
       "</table>\n",
       "</div>"
      ],
      "text/plain": [
       "   PCU325311325311  WTISPLC  WPUSI024011  PCU3253203253201  WPU02550304\n",
       "0            177.6    30.72        166.2             100.0        120.6\n",
       "1            173.8    30.76        166.5             100.0        121.5\n",
       "2            175.8    31.59        168.0             100.0        121.6\n",
       "3            178.4    28.29        168.1             100.0        121.1\n",
       "4            180.7    30.33        168.1             100.4        124.5"
      ]
     },
     "execution_count": 6,
     "metadata": {},
     "output_type": "execute_result"
    }
   ],
   "source": [
    "X.head()"
   ]
  },
  {
   "cell_type": "code",
   "execution_count": 7,
   "id": "622a4986",
   "metadata": {},
   "outputs": [
    {
     "data": {
      "text/html": [
       "<style>#sk-container-id-1 {color: black;}#sk-container-id-1 pre{padding: 0;}#sk-container-id-1 div.sk-toggleable {background-color: white;}#sk-container-id-1 label.sk-toggleable__label {cursor: pointer;display: block;width: 100%;margin-bottom: 0;padding: 0.3em;box-sizing: border-box;text-align: center;}#sk-container-id-1 label.sk-toggleable__label-arrow:before {content: \"▸\";float: left;margin-right: 0.25em;color: #696969;}#sk-container-id-1 label.sk-toggleable__label-arrow:hover:before {color: black;}#sk-container-id-1 div.sk-estimator:hover label.sk-toggleable__label-arrow:before {color: black;}#sk-container-id-1 div.sk-toggleable__content {max-height: 0;max-width: 0;overflow: hidden;text-align: left;background-color: #f0f8ff;}#sk-container-id-1 div.sk-toggleable__content pre {margin: 0.2em;color: black;border-radius: 0.25em;background-color: #f0f8ff;}#sk-container-id-1 input.sk-toggleable__control:checked~div.sk-toggleable__content {max-height: 200px;max-width: 100%;overflow: auto;}#sk-container-id-1 input.sk-toggleable__control:checked~label.sk-toggleable__label-arrow:before {content: \"▾\";}#sk-container-id-1 div.sk-estimator input.sk-toggleable__control:checked~label.sk-toggleable__label {background-color: #d4ebff;}#sk-container-id-1 div.sk-label input.sk-toggleable__control:checked~label.sk-toggleable__label {background-color: #d4ebff;}#sk-container-id-1 input.sk-hidden--visually {border: 0;clip: rect(1px 1px 1px 1px);clip: rect(1px, 1px, 1px, 1px);height: 1px;margin: -1px;overflow: hidden;padding: 0;position: absolute;width: 1px;}#sk-container-id-1 div.sk-estimator {font-family: monospace;background-color: #f0f8ff;border: 1px dotted black;border-radius: 0.25em;box-sizing: border-box;margin-bottom: 0.5em;}#sk-container-id-1 div.sk-estimator:hover {background-color: #d4ebff;}#sk-container-id-1 div.sk-parallel-item::after {content: \"\";width: 100%;border-bottom: 1px solid gray;flex-grow: 1;}#sk-container-id-1 div.sk-label:hover label.sk-toggleable__label {background-color: #d4ebff;}#sk-container-id-1 div.sk-serial::before {content: \"\";position: absolute;border-left: 1px solid gray;box-sizing: border-box;top: 0;bottom: 0;left: 50%;z-index: 0;}#sk-container-id-1 div.sk-serial {display: flex;flex-direction: column;align-items: center;background-color: white;padding-right: 0.2em;padding-left: 0.2em;position: relative;}#sk-container-id-1 div.sk-item {position: relative;z-index: 1;}#sk-container-id-1 div.sk-parallel {display: flex;align-items: stretch;justify-content: center;background-color: white;position: relative;}#sk-container-id-1 div.sk-item::before, #sk-container-id-1 div.sk-parallel-item::before {content: \"\";position: absolute;border-left: 1px solid gray;box-sizing: border-box;top: 0;bottom: 0;left: 50%;z-index: -1;}#sk-container-id-1 div.sk-parallel-item {display: flex;flex-direction: column;z-index: 1;position: relative;background-color: white;}#sk-container-id-1 div.sk-parallel-item:first-child::after {align-self: flex-end;width: 50%;}#sk-container-id-1 div.sk-parallel-item:last-child::after {align-self: flex-start;width: 50%;}#sk-container-id-1 div.sk-parallel-item:only-child::after {width: 0;}#sk-container-id-1 div.sk-dashed-wrapped {border: 1px dashed gray;margin: 0 0.4em 0.5em 0.4em;box-sizing: border-box;padding-bottom: 0.4em;background-color: white;}#sk-container-id-1 div.sk-label label {font-family: monospace;font-weight: bold;display: inline-block;line-height: 1.2em;}#sk-container-id-1 div.sk-label-container {text-align: center;}#sk-container-id-1 div.sk-container {/* jupyter's `normalize.less` sets `[hidden] { display: none; }` but bootstrap.min.css set `[hidden] { display: none !important; }` so we also need the `!important` here to be able to override the default hidden behavior on the sphinx rendered scikit-learn.org. See: https://github.com/scikit-learn/scikit-learn/issues/21755 */display: inline-block !important;position: relative;}#sk-container-id-1 div.sk-text-repr-fallback {display: none;}</style><div id=\"sk-container-id-1\" class=\"sk-top-container\"><div class=\"sk-text-repr-fallback\"><pre>DecisionTreeRegressor(random_state=1)</pre><b>In a Jupyter environment, please rerun this cell to show the HTML representation or trust the notebook. <br />On GitHub, the HTML representation is unable to render, please try loading this page with nbviewer.org.</b></div><div class=\"sk-container\" hidden><div class=\"sk-item\"><div class=\"sk-estimator sk-toggleable\"><input class=\"sk-toggleable__control sk-hidden--visually\" id=\"sk-estimator-id-1\" type=\"checkbox\" checked><label for=\"sk-estimator-id-1\" class=\"sk-toggleable__label sk-toggleable__label-arrow\">DecisionTreeRegressor</label><div class=\"sk-toggleable__content\"><pre>DecisionTreeRegressor(random_state=1)</pre></div></div></div></div></div>"
      ],
      "text/plain": [
       "DecisionTreeRegressor(random_state=1)"
      ]
     },
     "execution_count": 7,
     "metadata": {},
     "output_type": "execute_result"
    }
   ],
   "source": [
    "from sklearn.tree import DecisionTreeRegressor\n",
    "\n",
    "wheat_model = DecisionTreeRegressor(random_state=1)\n",
    "wheat_model.fit(X, y)"
   ]
  },
  {
   "cell_type": "code",
   "execution_count": 8,
   "id": "7080e725",
   "metadata": {},
   "outputs": [
    {
     "name": "stdout",
     "output_type": "stream",
     "text": [
      "[118.15713381 115.77595333 133.4844919  130.64998048 130.05660449\n",
      " 141.34708404 145.0674954  147.28961238 141.73385947 142.548725\n",
      " 146.06482349 143.18426737 136.86140984 132.387431   122.05578\n",
      " 126.8207655  123.05628937 127.13308667 123.55457304 122.77896217\n",
      " 123.12996088 129.95566833 120.06430508 119.1544619  122.47332167\n",
      " 130.16443917 131.55830217 137.38631937 143.07283921 136.3539973\n",
      " 139.99337    144.5679565  158.88735018 155.79314667 161.20800281\n",
      " 176.60342333 176.920755   181.34836683 165.12937833 164.94231967\n",
      " 182.432305   182.30107762 179.52955533 172.5666305  175.26729\n",
      " 173.313195   178.55584817 178.00636333 206.51690365 222.0017346\n",
      " 240.68699217 297.95245912 303.63049072 286.4956181  339.22569593\n",
      " 336.11706508 393.87373483 403.81289667 326.85161667 288.42028635\n",
      " 314.15835    299.42748    304.16407267 263.04965937 202.774935\n",
      " 194.11462961 188.84494968 211.27608333 195.22490263 199.10056833\n",
      " 200.88764667 227.186091   227.31469383 195.32599167 179.55405111\n",
      " 156.93045063 163.72643833 177.6072814  171.15549873 167.82186281\n",
      " 160.16156037 156.46411797 156.82546873 158.32845967 149.21269\n",
      " 182.73850222 219.87744167 240.43218283 234.59956317 241.84013333\n",
      " 274.45681817 295.98860683 317.6006514  285.37581111 307.25440842\n",
      " 307.19455032 285.29787    271.46220933 288.68830833 272.34055794\n",
      " 251.58913476 244.53785016 236.0596865  243.70236917 245.9804765\n",
      " 243.49359833 228.08631083 228.87964    241.96579349 310.7464381\n",
      " 315.54821913 316.65305158 318.40783493 319.45993619 303.03855614\n",
      " 288.21032254 271.6785887  263.341859   264.17026167 276.04514667\n",
      " 266.85087917 257.47289333 258.92593833 257.499616   278.14955667\n",
      " 259.77772333 246.11257873 229.98035937 242.79828158 275.61249397\n",
      " 276.38236127 287.91287381 261.64990063 238.549905   229.15800111\n",
      " 211.17110143 210.72492833 215.98791824 234.85883667 213.0214075\n",
      " 201.74206877 202.69142667 195.93122825 193.21657117 199.83544167\n",
      " 199.21748    173.51759159 164.06922016 165.4514819  157.80437895\n",
      " 163.893455   164.61162667 159.283795   164.06047167 163.38683778\n",
      " 157.56034206 156.69503667 133.710203   127.89991101 123.24875619\n",
      " 122.55850017 122.54979772 122.84632556 137.14573583 147.36144211\n",
      " 146.43149942 138.4075907  146.44021333 157.24619167 174.53241667\n",
      " 139.05081507 138.41339233 133.34451603 138.04595567 147.1032695\n",
      " 156.38804413 172.28911912 180.91881587 180.37640937 192.70383\n",
      " 193.07921984 196.80607746 211.29205884 191.14442175 188.46160667\n",
      " 181.55239088 188.5358363  188.84494968 177.91670175 164.50664476\n",
      " 159.03008873 158.281695   174.69776317 163.87675333 149.363005\n",
      " 146.57048633 153.22109    157.52826426 165.25464083 178.2417773\n",
      " 172.23110281 170.87475167 179.74651794 174.95496883 169.72233667\n",
      " 170.57412167 174.18247698 204.13731381 203.4263     210.75393649\n",
      " 217.31254286 237.94424982 240.80638807 229.88754928 239.93614333\n",
      " 278.4470054  238.76702667 243.62800698 274.87603    269.7335073\n",
      " 294.03681825 317.43735481 324.01790056 326.08166983 347.5032275\n",
      " 387.6650137  406.0268863  444.15656782 397.6523199  321.97512766\n",
      " 323.01676877 346.32218107 353.71290717 344.32986073 323.65483813\n",
      " 320.09704513 332.41202344 309.42959986 312.81082437 299.44000625\n",
      " 282.27674528 278.61760099 241.41387775 229.390711   216.46393913\n",
      " 216.00026905 229.63341259 226.0785319  219.23806846]\n",
      "0      118.157134\n",
      "1      115.775953\n",
      "2      133.484492\n",
      "3      130.649980\n",
      "4      130.056604\n",
      "          ...    \n",
      "244    216.463939\n",
      "245    216.000269\n",
      "246    229.633413\n",
      "247    226.078532\n",
      "248    219.238068\n",
      "Name: PWHEAMTUSDM, Length: 249, dtype: float64\n"
     ]
    }
   ],
   "source": [
    "predictions = wheat_model.predict(X)\n",
    "print(predictions)\n",
    "print(y)"
   ]
  },
  {
   "cell_type": "code",
   "execution_count": 9,
   "id": "a37bbc5b",
   "metadata": {},
   "outputs": [
    {
     "name": "stdout",
     "output_type": "stream",
     "text": [
      "Number of exact matches: 249 and 249\n"
     ]
    }
   ],
   "source": [
    "exact_matches = sum(1 for pred, actual in zip(predictions, y) if pred == actual)\n",
    "\n",
    "print(f\"Number of exact matches: {exact_matches} and {len(y)}\")"
   ]
  },
  {
   "cell_type": "code",
   "execution_count": 10,
   "id": "bbe04788",
   "metadata": {},
   "outputs": [
    {
     "data": {
      "text/plain": [
       "0.0"
      ]
     },
     "execution_count": 10,
     "metadata": {},
     "output_type": "execute_result"
    }
   ],
   "source": [
    "from sklearn.metrics import mean_absolute_error\n",
    "\n",
    "mean_absolute_error(y, predictions)"
   ]
  },
  {
   "cell_type": "code",
   "execution_count": 11,
   "id": "85ea8b4a",
   "metadata": {},
   "outputs": [
    {
     "name": "stdout",
     "output_type": "stream",
     "text": [
      "20.463265931331094\n"
     ]
    }
   ],
   "source": [
    "from sklearn.model_selection import train_test_split\n",
    "\n",
    "train_X, val_X, train_y, val_y = train_test_split(X, y, random_state = 0)\n",
    "\n",
    "new_wheat_model = DecisionTreeRegressor()\n",
    "new_wheat_model.fit(train_X, train_y)\n",
    "\n",
    "val_predictions = new_wheat_model.predict(val_X)\n",
    "print(mean_absolute_error(val_y, val_predictions))"
   ]
  },
  {
   "cell_type": "code",
   "execution_count": 12,
   "id": "eb63f3be",
   "metadata": {},
   "outputs": [],
   "source": [
    "def get_mae(max_leaf_nodes, train_X, val_X, train_y, val_y):\n",
    "    model = DecisionTreeRegressor(max_leaf_nodes=max_leaf_nodes, random_state=0)\n",
    "    model.fit(train_X, train_y)\n",
    "    preds_val = model.predict(val_X)\n",
    "    mae = mean_absolute_error(val_y, preds_val)\n",
    "    return(mae)"
   ]
  },
  {
   "cell_type": "code",
   "execution_count": 17,
   "id": "18054da0",
   "metadata": {},
   "outputs": [
    {
     "name": "stdout",
     "output_type": "stream",
     "text": [
      "Max leaf nodes: 5  \t\t Mean Absolute Error:  28\n",
      "Max leaf nodes: 10  \t\t Mean Absolute Error:  23\n",
      "Max leaf nodes: 15  \t\t Mean Absolute Error:  21\n",
      "Max leaf nodes: 20  \t\t Mean Absolute Error:  21\n",
      "Max leaf nodes: 25  \t\t Mean Absolute Error:  20\n",
      "Max leaf nodes: 30  \t\t Mean Absolute Error:  20\n",
      "Max leaf nodes: 35  \t\t Mean Absolute Error:  22\n",
      "Max leaf nodes: 40  \t\t Mean Absolute Error:  20\n",
      "Max leaf nodes: 45  \t\t Mean Absolute Error:  20\n",
      "Max leaf nodes: 50  \t\t Mean Absolute Error:  19\n",
      "Max leaf nodes: 55  \t\t Mean Absolute Error:  20\n",
      "Max leaf nodes: 60  \t\t Mean Absolute Error:  20\n",
      "Max leaf nodes: 65  \t\t Mean Absolute Error:  20\n",
      "Max leaf nodes: 70  \t\t Mean Absolute Error:  19\n",
      "Max leaf nodes: 75  \t\t Mean Absolute Error:  19\n",
      "Max leaf nodes: 80  \t\t Mean Absolute Error:  19\n",
      "Max leaf nodes: 85  \t\t Mean Absolute Error:  20\n",
      "Max leaf nodes: 90  \t\t Mean Absolute Error:  20\n",
      "Max leaf nodes: 95  \t\t Mean Absolute Error:  19\n"
     ]
    }
   ],
   "source": [
    "for max_leaf_nodes in [i for i in range(5, 100, 5)]:\n",
    "    my_mae = get_mae(max_leaf_nodes, train_X, val_X, train_y, val_y)\n",
    "    print(\"Max leaf nodes: %d  \\t\\t Mean Absolute Error:  %d\" %(max_leaf_nodes, my_mae))"
   ]
  },
  {
   "cell_type": "code",
   "execution_count": 18,
   "id": "a0a81e8c",
   "metadata": {},
   "outputs": [],
   "source": [
    "best_tree_size = 50"
   ]
  },
  {
   "cell_type": "code",
   "execution_count": 19,
   "id": "4cfdd6ab",
   "metadata": {},
   "outputs": [
    {
     "data": {
      "text/html": [
       "<style>#sk-container-id-2 {color: black;}#sk-container-id-2 pre{padding: 0;}#sk-container-id-2 div.sk-toggleable {background-color: white;}#sk-container-id-2 label.sk-toggleable__label {cursor: pointer;display: block;width: 100%;margin-bottom: 0;padding: 0.3em;box-sizing: border-box;text-align: center;}#sk-container-id-2 label.sk-toggleable__label-arrow:before {content: \"▸\";float: left;margin-right: 0.25em;color: #696969;}#sk-container-id-2 label.sk-toggleable__label-arrow:hover:before {color: black;}#sk-container-id-2 div.sk-estimator:hover label.sk-toggleable__label-arrow:before {color: black;}#sk-container-id-2 div.sk-toggleable__content {max-height: 0;max-width: 0;overflow: hidden;text-align: left;background-color: #f0f8ff;}#sk-container-id-2 div.sk-toggleable__content pre {margin: 0.2em;color: black;border-radius: 0.25em;background-color: #f0f8ff;}#sk-container-id-2 input.sk-toggleable__control:checked~div.sk-toggleable__content {max-height: 200px;max-width: 100%;overflow: auto;}#sk-container-id-2 input.sk-toggleable__control:checked~label.sk-toggleable__label-arrow:before {content: \"▾\";}#sk-container-id-2 div.sk-estimator input.sk-toggleable__control:checked~label.sk-toggleable__label {background-color: #d4ebff;}#sk-container-id-2 div.sk-label input.sk-toggleable__control:checked~label.sk-toggleable__label {background-color: #d4ebff;}#sk-container-id-2 input.sk-hidden--visually {border: 0;clip: rect(1px 1px 1px 1px);clip: rect(1px, 1px, 1px, 1px);height: 1px;margin: -1px;overflow: hidden;padding: 0;position: absolute;width: 1px;}#sk-container-id-2 div.sk-estimator {font-family: monospace;background-color: #f0f8ff;border: 1px dotted black;border-radius: 0.25em;box-sizing: border-box;margin-bottom: 0.5em;}#sk-container-id-2 div.sk-estimator:hover {background-color: #d4ebff;}#sk-container-id-2 div.sk-parallel-item::after {content: \"\";width: 100%;border-bottom: 1px solid gray;flex-grow: 1;}#sk-container-id-2 div.sk-label:hover label.sk-toggleable__label {background-color: #d4ebff;}#sk-container-id-2 div.sk-serial::before {content: \"\";position: absolute;border-left: 1px solid gray;box-sizing: border-box;top: 0;bottom: 0;left: 50%;z-index: 0;}#sk-container-id-2 div.sk-serial {display: flex;flex-direction: column;align-items: center;background-color: white;padding-right: 0.2em;padding-left: 0.2em;position: relative;}#sk-container-id-2 div.sk-item {position: relative;z-index: 1;}#sk-container-id-2 div.sk-parallel {display: flex;align-items: stretch;justify-content: center;background-color: white;position: relative;}#sk-container-id-2 div.sk-item::before, #sk-container-id-2 div.sk-parallel-item::before {content: \"\";position: absolute;border-left: 1px solid gray;box-sizing: border-box;top: 0;bottom: 0;left: 50%;z-index: -1;}#sk-container-id-2 div.sk-parallel-item {display: flex;flex-direction: column;z-index: 1;position: relative;background-color: white;}#sk-container-id-2 div.sk-parallel-item:first-child::after {align-self: flex-end;width: 50%;}#sk-container-id-2 div.sk-parallel-item:last-child::after {align-self: flex-start;width: 50%;}#sk-container-id-2 div.sk-parallel-item:only-child::after {width: 0;}#sk-container-id-2 div.sk-dashed-wrapped {border: 1px dashed gray;margin: 0 0.4em 0.5em 0.4em;box-sizing: border-box;padding-bottom: 0.4em;background-color: white;}#sk-container-id-2 div.sk-label label {font-family: monospace;font-weight: bold;display: inline-block;line-height: 1.2em;}#sk-container-id-2 div.sk-label-container {text-align: center;}#sk-container-id-2 div.sk-container {/* jupyter's `normalize.less` sets `[hidden] { display: none; }` but bootstrap.min.css set `[hidden] { display: none !important; }` so we also need the `!important` here to be able to override the default hidden behavior on the sphinx rendered scikit-learn.org. See: https://github.com/scikit-learn/scikit-learn/issues/21755 */display: inline-block !important;position: relative;}#sk-container-id-2 div.sk-text-repr-fallback {display: none;}</style><div id=\"sk-container-id-2\" class=\"sk-top-container\"><div class=\"sk-text-repr-fallback\"><pre>DecisionTreeRegressor(max_leaf_nodes=50, random_state=1)</pre><b>In a Jupyter environment, please rerun this cell to show the HTML representation or trust the notebook. <br />On GitHub, the HTML representation is unable to render, please try loading this page with nbviewer.org.</b></div><div class=\"sk-container\" hidden><div class=\"sk-item\"><div class=\"sk-estimator sk-toggleable\"><input class=\"sk-toggleable__control sk-hidden--visually\" id=\"sk-estimator-id-2\" type=\"checkbox\" checked><label for=\"sk-estimator-id-2\" class=\"sk-toggleable__label sk-toggleable__label-arrow\">DecisionTreeRegressor</label><div class=\"sk-toggleable__content\"><pre>DecisionTreeRegressor(max_leaf_nodes=50, random_state=1)</pre></div></div></div></div></div>"
      ],
      "text/plain": [
       "DecisionTreeRegressor(max_leaf_nodes=50, random_state=1)"
      ]
     },
     "execution_count": 19,
     "metadata": {},
     "output_type": "execute_result"
    }
   ],
   "source": [
    "final_model = DecisionTreeRegressor(max_leaf_nodes=best_tree_size, random_state=1)\n",
    "\n",
    "final_model.fit(X, y)"
   ]
  },
  {
   "cell_type": "code",
   "execution_count": 20,
   "id": "e971df80",
   "metadata": {},
   "outputs": [
    {
     "name": "stdout",
     "output_type": "stream",
     "text": [
      "7.3459145597488105\n"
     ]
    }
   ],
   "source": [
    "f_val_predictions = final_model.predict(val_X)\n",
    "print(mean_absolute_error(val_y, f_val_predictions))"
   ]
  },
  {
   "cell_type": "code",
   "execution_count": 25,
   "id": "a33984ae",
   "metadata": {},
   "outputs": [
    {
     "data": {
      "text/plain": [
       "(array([221.69511203, 145.24291568, 171.02546488, 163.38118684,\n",
       "        197.59896571, 211.32034275, 171.02546488, 130.51037056,\n",
       "        272.30476865, 230.27711242, 302.6672174 , 164.12598809,\n",
       "        153.77057483, 175.5945918 , 130.51037056, 175.5945918 ,\n",
       "        337.6713805 , 269.68142158, 326.37462611, 302.6672174 ,\n",
       "        175.5945918 , 221.69511203, 130.51037056, 238.13315865,\n",
       "        171.02546488, 206.1058501 , 171.02546488, 313.80926578,\n",
       "        257.31939706, 313.80926578, 269.68142158, 132.1213522 ,\n",
       "        164.12598809, 202.774935  , 255.65473018, 132.1213522 ,\n",
       "        132.1213522 , 274.4343637 , 132.1213522 , 130.51037056,\n",
       "        221.69511203, 406.0268863 , 237.20527503, 163.38118684,\n",
       "        171.02546488, 163.38118684, 326.37462611, 255.65473018,\n",
       "        171.02546488, 348.5153318 , 237.20527503, 132.1213522 ,\n",
       "        175.5945918 , 132.1213522 , 233.80913692, 132.1213522 ,\n",
       "        392.6586668 , 195.58120243, 197.59896571, 130.51037056,\n",
       "        240.77705899, 238.13315865, 301.54254725]),\n",
       " 63,\n",
       " 63)"
      ]
     },
     "execution_count": 25,
     "metadata": {},
     "output_type": "execute_result"
    }
   ],
   "source": [
    "f_val_predictions, len(f_val_predictions), len(val_y) # these are predictions for the upcoming 5 years and 3 months"
   ]
  },
  {
   "cell_type": "code",
   "execution_count": 26,
   "id": "6a0a3c8c",
   "metadata": {},
   "outputs": [],
   "source": [
    "# i am gonna try improving the model more tonight or when we meet up tomorrow; my plan is to include this section\n",
    "# either before the conclusion or as an addendum; still needs refinement and shortening though"
   ]
  }
 ],
 "metadata": {
  "kernelspec": {
   "display_name": "Python 3 (ipykernel)",
   "language": "python",
   "name": "python3"
  },
  "language_info": {
   "codemirror_mode": {
    "name": "ipython",
    "version": 3
   },
   "file_extension": ".py",
   "mimetype": "text/x-python",
   "name": "python",
   "nbconvert_exporter": "python",
   "pygments_lexer": "ipython3",
   "version": "3.11.5"
  }
 },
 "nbformat": 4,
 "nbformat_minor": 5
}
